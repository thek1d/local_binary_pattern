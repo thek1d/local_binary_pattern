{
 "cells": [
  {
   "cell_type": "markdown",
   "metadata": {
    "slideshow": {
     "slide_type": "slide"
    }
   },
   "source": [
    "\n",
    "# Jupyter Notebook and Python Crash-Course\n",
    " \n",
    "Once you have successfully set up your anaconda environment we can start writing python code interactively within our browser. \n",
    "     \n",
    "    \n",
    "### Jupyter Notebooks\n",
    "\n",
    "* Cells can be <b>evaluated</b> by selecting them and then hitting <code>shift + enter</code>\n",
    "* New cells can be <b>inserted</b> using the Insert option in the menu\n",
    "* Cells can be <b>edited</b> using the Edit option in the menu\n",
    "\n",
    "\n",
    "\n"
   ]
  },
  {
   "cell_type": "markdown",
   "metadata": {
    "slideshow": {
     "slide_type": "slide"
    }
   },
   "source": [
    "### Python\n",
    "Python is one of the most popular languages in ML and the most popular language in Deep-Learning:\n",
    "* Python is a strongly, dynamically <b>typed</b> language\n",
    "* Code blocks in python are defined using <b>indents</b> (tabs) instead of <code>}</code> or <code>{</code>\n",
    "* You do not have to use <code>;</code>\n",
    "* <code>)</code> and <code>(</code> can be omitted in many cases \n",
    "* <b>Lists, dictionaries and numpy arrays</b> will be our main data structures\n",
    "\n",
    "Try to <b>learn</b> the syntax from <b>coding</b>, and referring to other code samples. It is quite simple. We will cover\n",
    "only the most important things here.\n"
   ]
  },
  {
   "cell_type": "markdown",
   "metadata": {
    "slideshow": {
     "slide_type": "slide"
    }
   },
   "source": [
    "## Conditional Statements\n",
    "\n",
    "In python there is an <code>if</code> statement (the indent is important!) following the same semantical rules as in other languages:\n",
    "\n",
    "<code>if condition:\n",
    "    statement\n",
    "</code>\n"
   ]
  },
  {
   "cell_type": "code",
   "execution_count": 20,
   "metadata": {
    "slideshow": {
     "slide_type": "fragment"
    }
   },
   "outputs": [
    {
     "name": "stdout",
     "output_type": "stream",
     "text": [
      "10 is greater than 1.\n"
     ]
    }
   ],
   "source": [
    "if 10 > 5:\n",
    "    print('10 is greater than 1.')"
   ]
  },
  {
   "cell_type": "markdown",
   "metadata": {
    "slideshow": {
     "slide_type": "slide"
    }
   },
   "source": [
    "There is also an else and an else-if version of the statement. Logical expression are negated using the <code>not</code>\n",
    "statement, they can be concatenated using the <code>and</code> and <code>or</code> operators:<br><br>\n",
    "<code>if condition1:\n",
    "    statement1\n",
    "elif condition2:\n",
    "    statement2\n",
    "else condition3:\n",
    "    statement3\n",
    "</code>\n"
   ]
  },
  {
   "cell_type": "code",
   "execution_count": 21,
   "metadata": {
    "slideshow": {
     "slide_type": "fragment"
    }
   },
   "outputs": [
    {
     "name": "stdout",
     "output_type": "stream",
     "text": [
      "x is in (3;inf)\n"
     ]
    }
   ],
   "source": [
    "x = 3.001\n",
    "\n",
    "if x < 0:\n",
    "    print('x is in (-inf, 0)')\n",
    "elif x >= 0 and x <= 3:\n",
    "    print('x is in [0;3]') \n",
    "else:\n",
    "    print('x is in (3;inf)')"
   ]
  },
  {
   "cell_type": "markdown",
   "metadata": {
    "slideshow": {
     "slide_type": "slide"
    }
   },
   "source": [
    "## Lists, Dictionaries and Tuples\n",
    "\n",
    "Lists and dictionaries and tuples are the most important python data structures. An list is defined using the <code>[]</code> syntax."
   ]
  },
  {
   "cell_type": "code",
   "execution_count": 22,
   "metadata": {
    "scrolled": true,
    "slideshow": {
     "slide_type": "fragment"
    }
   },
   "outputs": [
    {
     "name": "stdout",
     "output_type": "stream",
     "text": [
      "['item1', 2, [...]]\n"
     ]
    }
   ],
   "source": [
    "list1 = []\n",
    "list1.append('item1') # add a string to the list\n",
    "list1.append(2) # add an integer to the list, lists are not restricted to one data-type\n",
    "\n",
    "list1.append(list1)\n",
    "print(list1)"
   ]
  },
  {
   "cell_type": "code",
   "execution_count": 23,
   "metadata": {
    "slideshow": {
     "slide_type": "fragment"
    }
   },
   "outputs": [
    {
     "name": "stdout",
     "output_type": "stream",
     "text": [
      "['item1', 2]\n"
     ]
    }
   ],
   "source": [
    "list2 = ['item1', 2] # direct initialization of a list\n",
    "print(list2)"
   ]
  },
  {
   "cell_type": "code",
   "execution_count": 24,
   "metadata": {
    "slideshow": {
     "slide_type": "fragment"
    }
   },
   "outputs": [
    {
     "name": "stdout",
     "output_type": "stream",
     "text": [
      "[2, 'item2', 3]\n"
     ]
    }
   ],
   "source": [
    "list3 = ['item1', 2, 'item2', 3]\n",
    "list3.remove('item1') # items can be removed\n",
    "print(list3)"
   ]
  },
  {
   "cell_type": "markdown",
   "metadata": {
    "slideshow": {
     "slide_type": "slide"
    }
   },
   "source": [
    "We can check if an item is inside the list by using the <code>in</code> operator:"
   ]
  },
  {
   "cell_type": "code",
   "execution_count": 25,
   "metadata": {
    "slideshow": {
     "slide_type": "fragment"
    }
   },
   "outputs": [
    {
     "name": "stdout",
     "output_type": "stream",
     "text": [
      "True\n",
      "False\n"
     ]
    }
   ],
   "source": [
    "list4 = ['item1', 2, 'item2', 3]\n",
    "print(2 in list4)\n",
    "print('item1' not in list4)"
   ]
  },
  {
   "cell_type": "markdown",
   "metadata": {
    "slideshow": {
     "slide_type": "slide"
    }
   },
   "source": [
    "You can retrieve the number of items in a list using the <code>len</code> operator:"
   ]
  },
  {
   "cell_type": "code",
   "execution_count": 26,
   "metadata": {
    "slideshow": {
     "slide_type": "fragment"
    }
   },
   "outputs": [
    {
     "data": {
      "text/plain": [
       "6"
      ]
     },
     "execution_count": 26,
     "metadata": {},
     "output_type": "execute_result"
    }
   ],
   "source": [
    "list1 = [1,2,3,4,5,6]\n",
    "len(list1)"
   ]
  },
  {
   "cell_type": "markdown",
   "metadata": {
    "slideshow": {
     "slide_type": "slide"
    }
   },
   "source": [
    "### Dictionaries\n",
    "Dictionaries are an <b>associative</b> data structure (such as a HashMap) combining a key and a value:"
   ]
  },
  {
   "cell_type": "code",
   "execution_count": 27,
   "metadata": {
    "slideshow": {
     "slide_type": "fragment"
    }
   },
   "outputs": [
    {
     "name": "stdout",
     "output_type": "stream",
     "text": [
      "{'cat': [[1, 2, 3, 4]], 'dog': [[5, 6, 1, 0]]}\n",
      "{'cat': [[1, 2, 3, 4], 'bad fvec'], 'dog': [[5, 6, 1, 0]]}\n"
     ]
    }
   ],
   "source": [
    "fvecs_by_class = dict() # initialize a dictionary\n",
    "fvecs_by_class['cat'] = [[1, 2, 3 ,4]] # key is a string, value is a list, containing a single element (another list)\n",
    "fvecs_by_class['dog'] = [[5, 6, 1, 0]]\n",
    "\n",
    "print(fvecs_by_class)\n",
    "\n",
    "fvecs_by_class['cat'].append('bad fvec')\n",
    "\n",
    "print(fvecs_by_class)"
   ]
  },
  {
   "cell_type": "code",
   "execution_count": 28,
   "metadata": {
    "slideshow": {
     "slide_type": "fragment"
    }
   },
   "outputs": [
    {
     "name": "stdout",
     "output_type": "stream",
     "text": [
      "{'cat': [[1, 2, 3, 4], 'bad fvec', 'a bad feature vector'], 'dog': [[5, 6, 1, 0]]}\n"
     ]
    }
   ],
   "source": [
    "fvecs_by_class['cat'].append('a bad feature vector') # we add another value to the string which certainly is not a fvec!!\n",
    "print(fvecs_by_class)"
   ]
  },
  {
   "cell_type": "markdown",
   "metadata": {
    "slideshow": {
     "slide_type": "slide"
    }
   },
   "source": [
    "## Tuples\n",
    "\n",
    "Tuples are another important data structure. We use them to combine multiple elements. Tuples are defined using the <code>()</code> syntax."
   ]
  },
  {
   "cell_type": "code",
   "execution_count": 29,
   "metadata": {
    "slideshow": {
     "slide_type": "fragment"
    }
   },
   "outputs": [
    {
     "name": "stdout",
     "output_type": "stream",
     "text": [
      "3\n"
     ]
    }
   ],
   "source": [
    "tuple1 = (1, 3, 'string') # once defined tuples have a fixed numer of elements (as opposed to a list)\n",
    "print(tuple1[1]) # tuples are accessed using indexing"
   ]
  },
  {
   "cell_type": "markdown",
   "metadata": {
    "slideshow": {
     "slide_type": "fragment"
    }
   },
   "source": [
    "# We can retrieve the number of elements in a tuple using the <code>len</code> operator."
   ]
  },
  {
   "cell_type": "code",
   "execution_count": 30,
   "metadata": {
    "slideshow": {
     "slide_type": "fragment"
    }
   },
   "outputs": [
    {
     "name": "stdout",
     "output_type": "stream",
     "text": [
      "1\n"
     ]
    }
   ],
   "source": [
    "tuple2 = (10,) # define a tuple with 1-dimension using the slightly strange \"(n,)\" syntax\n",
    "print(len(tuple2))"
   ]
  },
  {
   "cell_type": "markdown",
   "metadata": {
    "slideshow": {
     "slide_type": "slide"
    }
   },
   "source": [
    "## For-Loops\n",
    "\n",
    "For loops are everywhere in ML and signal processing. The syntax is a bit different from what we are used to in Java and C.\n",
    "For loops are based on the idea of <b>iterators</b> in python (this is similar to foreach in other languages). We therefore do not define a start-value, end condition and iteration statement like in other languages we simply iterate over a sequence.\n",
    "\n",
    "The syntax is:\n",
    "<code>\n",
    "for variable in iterable-structure:\n",
    "    statement\n",
    "</code>"
   ]
  },
  {
   "cell_type": "code",
   "execution_count": 31,
   "metadata": {
    "slideshow": {
     "slide_type": "fragment"
    }
   },
   "outputs": [
    {
     "name": "stdout",
     "output_type": "stream",
     "text": [
      "one\n",
      "two\n",
      "three\n"
     ]
    }
   ],
   "source": [
    "list1 = ['one', 'two', 'three']\n",
    "for item in list1:\n",
    "    print(item)"
   ]
  },
  {
   "cell_type": "markdown",
   "metadata": {
    "slideshow": {
     "slide_type": "slide"
    }
   },
   "source": [
    "We often want to iterate over a range of values we define. For this the <code>range()</code> function can be used:"
   ]
  },
  {
   "cell_type": "code",
   "execution_count": 32,
   "metadata": {
    "slideshow": {
     "slide_type": "fragment"
    }
   },
   "outputs": [
    {
     "name": "stdout",
     "output_type": "stream",
     "text": [
      "1\n",
      "3\n",
      "5\n",
      "7\n",
      "9\n"
     ]
    }
   ],
   "source": [
    "for value in range(1,10,2):\n",
    "    print(value)"
   ]
  },
  {
   "cell_type": "markdown",
   "metadata": {
    "slideshow": {
     "slide_type": "slide"
    }
   },
   "source": [
    "# Image Tools\n",
    "\n",
    "The ImageTools provide us with some easy to use python functions to load and work with images. \n",
    "To use ImageTools the file ImageTools.py must be in the same folder as your current notebook file. You can then import all functions by using the import statement:"
   ]
  },
  {
   "cell_type": "code",
   "execution_count": 33,
   "metadata": {
    "slideshow": {
     "slide_type": "fragment"
    }
   },
   "outputs": [],
   "source": [
    "from ImageTools import * # Make sure the ImageTools.py file is in the same directory as the notebook file"
   ]
  },
  {
   "cell_type": "markdown",
   "metadata": {
    "slideshow": {
     "slide_type": "slide"
    }
   },
   "source": [
    "### Loading Images\n",
    "For the use of use we will use a dataset provided by tensorflow/keras which is also known as cifar10.\n"
   ]
  },
  {
   "cell_type": "code",
   "execution_count": 39,
   "metadata": {},
   "outputs": [],
   "source": [
    "import tensorflow as tf # We will use some tensorflow dataset \n",
    "\n",
    "# Load the cifar10 dataset, returns a tuple of Numpy arrays: (x_train, y_train), (x_test, y_test).\n",
    "(x_train, y_train), (x_test, y_test) = tf.keras.datasets.cifar10.load_data()"
   ]
  },
  {
   "cell_type": "code",
   "execution_count": 43,
   "metadata": {},
   "outputs": [
    {
     "name": "stdout",
     "output_type": "stream",
     "text": [
      "[6]\n"
     ]
    },
    {
     "data": {
      "image/png": "[encoded data removed]",
      "text/plain": [
       "<Figure size 432x288 with 1 Axes>"
      ]
     },
     "metadata": {
      "needs_background": "light"
     },
     "output_type": "display_data"
    }
   ],
   "source": [
    "display_image(x_train[0])\n",
    "print(y_train[0]) # Label of the first training image"
   ]
  },
  {
   "cell_type": "markdown",
   "metadata": {
    "slideshow": {
     "slide_type": "slide"
    }
   },
   "source": [
    "### Numpy Arrays\n",
    "In tensorflow, keras and most ML frameworks <b>numpy arrays</b> are the data-structure that is used to represent data, weights and everything else. Numpy arrays represent a <b>tensor</b>. A tensor is simply a multidimensional array or matrix. \n",
    "A tensor can therefore have n-dimensions. We can use indexing to access each dimension separately. We will use numpy arrays\n",
    "and lists of numpy arrays a lot in this course.\n"
   ]
  },
  {
   "cell_type": "code",
   "execution_count": 5,
   "metadata": {
    "slideshow": {
     "slide_type": "fragment"
    }
   },
   "outputs": [],
   "source": [
    "img = x_train[0] # img is a numpy array"
   ]
  },
  {
   "cell_type": "markdown",
   "metadata": {
    "slideshow": {
     "slide_type": "slide"
    }
   },
   "source": [
    "The first index into the array corresponds to the row-index, the second index to the column-index (such as when we use matrices). The third dimension is the color channel.\n",
    "<center>\n",
    "<img src='numpy_tensor.png' width=600/>\n",
    "    </center>"
   ]
  },
  {
   "cell_type": "code",
   "execution_count": 6,
   "metadata": {
    "slideshow": {
     "slide_type": "fragment"
    }
   },
   "outputs": [
    {
     "name": "stdout",
     "output_type": "stream",
     "text": [
      "(32, 32, 3)\n"
     ]
    }
   ],
   "source": [
    "print(img.shape)"
   ]
  },
  {
   "cell_type": "code",
   "execution_count": 7,
   "metadata": {
    "slideshow": {
     "slide_type": "slide"
    }
   },
   "outputs": [
    {
     "name": "stdout",
     "output_type": "stream",
     "text": [
      "59\n"
     ]
    }
   ],
   "source": [
    "pixel = img[0,0,0] # read first pixel on the upper left corner of the first color channel\n",
    "print(pixel)"
   ]
  },
  {
   "cell_type": "code",
   "execution_count": 8,
   "metadata": {
    "slideshow": {
     "slide_type": "fragment"
    }
   },
   "outputs": [
    {
     "name": "stdout",
     "output_type": "stream",
     "text": [
      "[125 125 125]\n"
     ]
    }
   ],
   "source": [
    "img[0,0,0] = 0 # assign a new pixel value \n",
    "img[0:5,0,:] = 125 # assign a new pixel value to all color channels using the : operator\n",
    "print(img[0,0,:])"
   ]
  },
  {
   "cell_type": "code",
   "execution_count": null,
   "metadata": {},
   "outputs": [],
   "source": []
  },
  {
   "cell_type": "code",
   "execution_count": 9,
   "metadata": {
    "slideshow": {
     "slide_type": "fragment"
    }
   },
   "outputs": [
    {
     "name": "stdout",
     "output_type": "stream",
     "text": [
      "[125 125 125 125 125  71  97 115 137 154 154 145 142 158 145 148 149 147\n",
      " 152 145 143 143 141 143 149 172 202 216 220 208 180 177]\n"
     ]
    }
   ],
   "source": [
    "pixels = img[:, 0, 0] # read the first vertical line of an image \n",
    "print(pixels)"
   ]
  },
  {
   "cell_type": "code",
   "execution_count": 10,
   "metadata": {
    "slideshow": {
     "slide_type": "fragment"
    }
   },
   "outputs": [],
   "source": [
    "img[:,0,:] = 0 # sets the value of the first vertical line of all color channels to 0 (0 is black 255 is white)"
   ]
  },
  {
   "cell_type": "code",
   "execution_count": 11,
   "metadata": {
    "slideshow": {
     "slide_type": "slide"
    }
   },
   "outputs": [
    {
     "data": {
      "image/png": "[encoded data removed]",
      "text/plain": [
       "<Figure size 432x288 with 1 Axes>"
      ]
     },
     "metadata": {
      "needs_background": "light"
     },
     "output_type": "display_data"
    }
   ],
   "source": [
    "display_image(img) # displays an image"
   ]
  },
  {
   "cell_type": "markdown",
   "metadata": {
    "slideshow": {
     "slide_type": "slide"
    }
   },
   "source": [
    "We can work with lists very similarly as we can with the arrays."
   ]
  },
  {
   "cell_type": "code",
   "execution_count": 12,
   "metadata": {
    "slideshow": {
     "slide_type": "slide"
    }
   },
   "outputs": [
    {
     "data": {
      "image/png": "[encoded data removed]",
      "text/plain": [
       "<Figure size 432x288 with 1 Axes>"
      ]
     },
     "metadata": {
      "needs_background": "light"
     },
     "output_type": "display_data"
    }
   ],
   "source": [
    "img[0,:,:] = 0 # set the first horizontal line of the third image to black\n",
    "display_image(img)"
   ]
  },
  {
   "cell_type": "markdown",
   "metadata": {
    "slideshow": {
     "slide_type": "slide"
    }
   },
   "source": [
    "The shape property of a numpy array gives us the size of each dimension. We can use it to safely access the image."
   ]
  },
  {
   "cell_type": "code",
   "execution_count": 13,
   "metadata": {
    "slideshow": {
     "slide_type": "fragment"
    }
   },
   "outputs": [
    {
     "data": {
      "text/plain": [
       "(32, 32, 3)"
      ]
     },
     "execution_count": 13,
     "metadata": {},
     "output_type": "execute_result"
    }
   ],
   "source": [
    "img = x_train[0]\n",
    "img.shape"
   ]
  },
  {
   "cell_type": "markdown",
   "metadata": {
    "slideshow": {
     "slide_type": "slide"
    }
   },
   "source": [
    "We can use the <code>range()</code> function to loop over a range of values. "
   ]
  },
  {
   "cell_type": "code",
   "execution_count": 14,
   "metadata": {
    "slideshow": {
     "slide_type": "fragment"
    }
   },
   "outputs": [
    {
     "name": "stdout",
     "output_type": "stream",
     "text": [
      "0\n",
      "1\n",
      "2\n",
      "3\n",
      "4\n",
      "5\n",
      "6\n",
      "7\n",
      "8\n",
      "9\n"
     ]
    }
   ],
   "source": [
    "for i in range(10):\n",
    "    print(i)"
   ]
  },
  {
   "cell_type": "code",
   "execution_count": 15,
   "metadata": {
    "slideshow": {
     "slide_type": "slide"
    }
   },
   "outputs": [
    {
     "data": {
      "image/png": "[encoded data removed]",
      "text/plain": [
       "<Figure size 432x288 with 1 Axes>"
      ]
     },
     "metadata": {
      "needs_background": "light"
     },
     "output_type": "display_data"
    }
   ],
   "source": [
    "for i in range(img.shape[0]): # loop over all rows\n",
    "    if i % 4 == 0: # for every four rows\n",
    "        img[i, :, :] = (0, 0, 255) # set the pixel value of all columns of the current row to blue (0, 0, 255)\n",
    "display_image(img)"
   ]
  },
  {
   "cell_type": "markdown",
   "metadata": {
    "slideshow": {
     "slide_type": "slide"
    }
   },
   "source": [
    "# Functions\n",
    "Functions in python are defined using the <b>def</b> keyword. Be aware that there are no \"{\" or \"}\". Indents are used to define the program structure."
   ]
  },
  {
   "cell_type": "code",
   "execution_count": 16,
   "metadata": {
    "slideshow": {
     "slide_type": "fragment"
    }
   },
   "outputs": [],
   "source": [
    "def add_vectors(vec1, vec2): # we assume vec1 and vec2 are numpy arrays\n",
    "    \n",
    "    if len(vec1.shape) != len(vec2.shape) or len(vec1.shape) != 1: # make sure vectors have only one dimension\n",
    "        raise Exception('Data must be vectors and have the same size.')\n",
    "        \n",
    "    vec_result = np.zeros(vec1.shape) # create an empty numpy array with the same shape as the vector 1\n",
    "    for i in range(vec1.shape[0]):\n",
    "        vec_result[i] = vec1[i] + vec2[i]\n",
    "    \n",
    "    return vec_result # return the result, you do not have to specifiy it in the definition of the function"
   ]
  },
  {
   "cell_type": "code",
   "execution_count": 17,
   "metadata": {
    "slideshow": {
     "slide_type": "fragment"
    }
   },
   "outputs": [
    {
     "name": "stdout",
     "output_type": "stream",
     "text": [
      "[5. 7. 9.]\n"
     ]
    }
   ],
   "source": [
    "import numpy as np\n",
    "\n",
    "vec3 = add_vectors(np.array([1,2,3]), np.array([4,5,6])) # we can create np arrays from lists\n",
    "print(vec3)"
   ]
  },
  {
   "cell_type": "markdown",
   "metadata": {
    "slideshow": {
     "slide_type": "slide"
    }
   },
   "source": [
    "### Histograms\n",
    "\n",
    "The ImageTools provide us with an easy way for displaying histograms."
   ]
  },
  {
   "cell_type": "code",
   "execution_count": 18,
   "metadata": {
    "slideshow": {
     "slide_type": "fragment"
    }
   },
   "outputs": [
    {
     "name": "stdout",
     "output_type": "stream",
     "text": [
      "[ 5.4647307  90.89876284  3.07544046 31.41656954 40.3668514   5.14515473\n",
      " 70.93780629 95.09511358 48.80770058 71.3999961 ]\n"
     ]
    }
   ],
   "source": [
    "import numpy as np\n",
    "hist = np.random.rand((10)) * 100 # create 10 random numbers\n",
    "print(hist)"
   ]
  },
  {
   "cell_type": "code",
   "execution_count": 19,
   "metadata": {
    "slideshow": {
     "slide_type": "fragment"
    }
   },
   "outputs": [
    {
     "data": {
      "image/png": "[encoded data removed]",
      "text/plain": [
       "<Figure size 432x288 with 1 Axes>"
      ]
     },
     "metadata": {
      "needs_background": "light"
     },
     "output_type": "display_data"
    }
   ],
   "source": [
    "from ImageTools import *\n",
    "draw_histogram(hist)"
   ]
  },
  {
   "cell_type": "code",
   "execution_count": null,
   "metadata": {
    "slideshow": {
     "slide_type": "skip"
    }
   },
   "outputs": [],
   "source": []
  }
 ],
 "metadata": {
  "celltoolbar": "Slideshow",
  "kernelspec": {
   "display_name": "Python 3",
   "language": "python",
   "name": "python3"
  },
  "language_info": {
   "codemirror_mode": {
    "name": "ipython",
    "version": 3
   },
   "file_extension": ".py",
   "mimetype": "text/x-python",
   "name": "python",
   "nbconvert_exporter": "python",
   "pygments_lexer": "ipython3",
   "version": "3.8.8"
  }
 },
 "nbformat": 4,
 "nbformat_minor": 4
}
