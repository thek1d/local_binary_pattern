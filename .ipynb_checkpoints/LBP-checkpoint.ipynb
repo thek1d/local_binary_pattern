{
 "cells": [
  {
   "cell_type": "code",
   "execution_count": 66,
   "id": "scientific-steal",
   "metadata": {},
   "outputs": [],
   "source": [
    "from ImageTools import *\n",
    "import tensorflow as tf\n",
    "import numpy as np"
   ]
  },
  {
   "cell_type": "code",
   "execution_count": 67,
   "id": "romantic-diagnosis",
   "metadata": {},
   "outputs": [
    {
     "data": {
      "image/png": "[encoded data removed]",
      "text/plain": [
       "<Figure size 432x288 with 1 Axes>"
      ]
     },
     "metadata": {
      "needs_background": "light"
     },
     "output_type": "display_data"
    }
   ],
   "source": [
    "(x_train, y_train), (x_test, y_test) = tf.keras.datasets.cifar10.load_data()\n",
    "display_image(x_train[1])"
   ]
  },
  {
   "cell_type": "code",
   "execution_count": 68,
   "id": "considerable-suspension",
   "metadata": {},
   "outputs": [
    {
     "name": "stdout",
     "output_type": "stream",
     "text": [
      "(32, 32, 3)\n",
      "32\n"
     ]
    }
   ],
   "source": [
    "img = x_train[1]\n",
    "#img = x_test[-1]\n",
    "print(img.shape)\n",
    "print((img.shape)[0])"
   ]
  },
  {
   "cell_type": "markdown",
   "id": "stupid-exploration",
   "metadata": {},
   "source": [
    "### Shape\n",
    "- pixels in y\n",
    "- pixels in x\n",
    "- channel (r,g,b) : [0] = red, [1] = green, [2] = blue"
   ]
  },
  {
   "cell_type": "code",
   "execution_count": 69,
   "id": "relative-burst",
   "metadata": {},
   "outputs": [
    {
     "name": "stdout",
     "output_type": "stream",
     "text": [
      "154\n",
      "177\n",
      "187\n",
      "143\n"
     ]
    }
   ],
   "source": [
    "print(img[0,0,0])\n",
    "print(img[0,0,1])\n",
    "print(img[0,0,2])\n",
    "print(img[31,31,0])"
   ]
  },
  {
   "cell_type": "code",
   "execution_count": 70,
   "id": "introductory-zealand",
   "metadata": {},
   "outputs": [],
   "source": [
    "def calc_lbp(start_x, start_y):\n",
    "    temp = list()\n",
    "    for y in range(start_y, pixel_count-1):\n",
    "        for x in range(start_x, pixel_count-1):\n",
    "            temp.append(__calc_lbp(x, y))\n",
    "    return temp\n",
    "    \n",
    "        \n",
    "def __calc_lbp(x_center, y_center):\n",
    "    global img, pixel_count, color\n",
    "    \n",
    "    values = {'diff_1': 1, 'diff_2': 2, 'diff_4': 4,     \\\n",
    "              'diff_8': 8, 'diff_16': 16, 'diff_32': 32, \\\n",
    "              'diff_64':64,'diff_128':128}\n",
    "    \n",
    "    values_set = {'diff_1': False, 'diff_2': False, 'diff_4': False,   \\\n",
    "                  'diff_8': False, 'diff_16': False, 'diff_32': False, \\\n",
    "              '    diff_64':False,'diff_128':False}\n",
    "            \n",
    "    val_center = int(img[y_center,   x_center  , color['r']]) + \\\n",
    "                 int(img[y_center,   x_center  , color['g']]) + \\\n",
    "                 int(img[y_center,   x_center  , color['b']])\n",
    "    \n",
    "    val_1      = int(img[y_center-1, x_center-1, color['r']]) + \\\n",
    "                 int(img[y_center-1, x_center-1, color['g']]) + \\\n",
    "                 int(img[y_center-1, x_center-1, color['b']])\n",
    "    \n",
    "    val_2      = int(img[y_center-1  , x_center, color['r']]) + \\\n",
    "                 int(img[y_center-1  , x_center, color['g']]) + \\\n",
    "                 int(img[y_center-1  , x_center, color['b']])\n",
    "    \n",
    "    val_4      = int(img[y_center-1, x_center+1, color['r']]) + \\\n",
    "                 int(img[y_center-1, x_center+1, color['g']]) + \\\n",
    "                 int(img[y_center-1, x_center+1, color['b']])\n",
    "    \n",
    "    val_8      = int(img[y_center, x_center+1  , color['r']]) + \\\n",
    "                 int(img[y_center, x_center+1  , color['g']]) + \\\n",
    "                 int(img[y_center, x_center+1  , color['b']])\n",
    "    \n",
    "    val_16     = int(img[y_center+1, x_center+1, color['r']]) + \\\n",
    "                 int(img[y_center+1, x_center+1, color['g']]) + \\\n",
    "                 int(img[y_center+1, x_center+1, color['b']])\n",
    "    \n",
    "    val_32     = int(img[y_center+1  , x_center, color['r']]) + \\\n",
    "                 int(img[y_center+1  , x_center, color['g']]) + \\\n",
    "                 int(img[y_center+1  , x_center, color['b']])\n",
    "    \n",
    "    val_64     = int(img[y_center+1, x_center-1, color['r']]) + \\\n",
    "                 int(img[y_center+1, x_center-1, color['g']]) + \\\n",
    "                 int(img[y_center+1, x_center-1, color['b']])\n",
    "    \n",
    "    val_128    = int(img[y_center, x_center-1  , color['r']]) + \\\n",
    "                 int(img[y_center, x_center-1  , color['g']]) + \\\n",
    "                 int(img[y_center, x_center-1  , color['b']])\n",
    "            \n",
    "    values_set['diff_1']   = True if val_1   - val_center >= 0 else False\n",
    "    values_set['diff_2']   = True if val_2   - val_center >= 0 else False\n",
    "    values_set['diff_4']   = True if val_4   - val_center >= 0 else False\n",
    "    values_set['diff_8']   = True if val_8   - val_center >= 0 else False\n",
    "    values_set['diff_16']  = True if val_16  - val_center >= 0 else False\n",
    "    values_set['diff_32']  = True if val_32  - val_center >= 0 else False\n",
    "    values_set['diff_64']  = True if val_64  - val_center >= 0 else False\n",
    "    values_set['diff_128'] = True if val_128 - val_center >= 0 else False\n",
    "    \n",
    "    result = 0\n",
    "    \n",
    "    for (key, value) in values_set.items():\n",
    "        if value:\n",
    "            result = result + values[key]\n",
    "            \n",
    "    return result"
   ]
  },
  {
   "cell_type": "code",
   "execution_count": 71,
   "id": "funky-discovery",
   "metadata": {},
   "outputs": [],
   "source": [
    "def check_occurence(lbp_values, hist):\n",
    "    hist = [lbp_values.count(x) for x in set(lbp_values)]\n",
    "    return hist"
   ]
  },
  {
   "cell_type": "code",
   "execution_count": 72,
   "id": "banned-comment",
   "metadata": {},
   "outputs": [],
   "source": [
    "def plot_histogram(hist):\n",
    "    draw_histogram(hist)"
   ]
  },
  {
   "cell_type": "code",
   "execution_count": 73,
   "id": "operational-willow",
   "metadata": {},
   "outputs": [
    {
     "data": {
      "image/png": "[encoded data removed]",
      "text/plain": [
       "<Figure size 432x288 with 1 Axes>"
      ]
     },
     "metadata": {
      "needs_background": "light"
     },
     "output_type": "display_data"
    }
   ],
   "source": [
    "start_x     = 1\n",
    "start_y     = 1\n",
    "color       = {'r': 0, 'g': 1, 'b': 2}\n",
    "pixel_count = (img.shape)[0]\n",
    "lbp_values  = list()\n",
    "hist        = [0] * 255\n",
    "\n",
    "def main():\n",
    "    global lbp_values, start_x, start_y, hist\n",
    "    lbp_values = calc_lbp(start_x, start_y)\n",
    "    hist = check_occurence(lbp_values, hist)\n",
    "    plot_histogram(hist)\n",
    "\n",
    "if __name__ == '__main__':\n",
    "    main()"
   ]
  }
 ],
 "metadata": {
  "kernelspec": {
   "display_name": "Python 3",
   "language": "python",
   "name": "python3"
  },
  "language_info": {
   "codemirror_mode": {
    "name": "ipython",
    "version": 3
   },
   "file_extension": ".py",
   "mimetype": "text/x-python",
   "name": "python",
   "nbconvert_exporter": "python",
   "pygments_lexer": "ipython3",
   "version": "3.8.8"
  }
 },
 "nbformat": 4,
 "nbformat_minor": 5
}
